{
 "cells": [
  {
   "cell_type": "code",
   "execution_count": null,
   "metadata": {},
   "outputs": [],
   "source": [
    "import torch\n",
    "import numpy as np"
   ]
  },
  {
   "cell_type": "code",
   "execution_count": null,
   "metadata": {},
   "outputs": [],
   "source": [
    "from torch.utils.data import DataLoader\n",
    "from datasets.datasets import perturbed_dataset, separated_dataset, perturbed_test_dataset, separated_test_dataset\n",
    "\n",
    "p_dataset = perturbed_dataset()\n",
    "s_dataset = separated_dataset()\n",
    "p_testset = perturbed_test_dataset()\n",
    "s_testset = separated_test_dataset()\n",
    "\n",
    "p_data = DataLoader(p_dataset, batch_size=32, shuffle=True)\n",
    "s_data = DataLoader(s_dataset, batch_size=32, shuffle=True)\n",
    "p_test = DataLoader(p_testset, batch_size=2)\n",
    "s_test = DataLoader(s_testset, batch_size=2)\n",
    "\n",
    "data = s_data.dataset.data\n",
    "shape = s_test.dataset.data.shape\n",
    "datatype = s_data.dataset.data.dtype\n",
    "\n",
    "print(shape)\n",
    "print(datatype)"
   ]
  },
  {
   "cell_type": "code",
   "execution_count": null,
   "metadata": {},
   "outputs": [],
   "source": [
    "data_s = s_data.dataset.data\n",
    "data_p = p_data.dataset.data\n",
    "# test_s =\n",
    "shape = s_data.dataset.data.shape\n",
    "datatype = s_data.dataset.data.dtype\n",
    "\n",
    "print(shape)\n",
    "print(datatype)"
   ]
  },
  {
   "cell_type": "code",
   "execution_count": null,
   "metadata": {},
   "outputs": [],
   "source": [
    "import matplotlib.pyplot as plt\n",
    "\n",
    "np.random.seed(1)\n",
    "\n",
    "num = np.floor(np.random.rand() * 6666).astype(int)\n",
    "\n",
    "lines_s = data_s[num][0]\n",
    "lines_p = data_p[num][0]\n",
    "\n",
    "for line in lines_s[:]:\n",
    "    plt.plot(line)\n",
    "plt.show()\n",
    "\n",
    "for line in lines_p:\n",
    "    plt.plot(line)\n",
    "plt.show()"
   ]
  },
  {
   "cell_type": "code",
   "execution_count": null,
   "metadata": {},
   "outputs": [],
   "source": [
    "import matplotlib.pyplot as plt\n",
    "\n",
    "np.random.seed(0)\n",
    "\n",
    "num = np.floor(np.random.rand() * 6666).astype(int)\n",
    "\n",
    "lines_s = data_s[num][0]\n",
    "lines_p = data_p[num][0]\n",
    "\n",
    "for line in lines_s[:]:\n",
    "    plt.plot(line)\n",
    "plt.show()\n",
    "\n",
    "for line in lines_p:\n",
    "    plt.plot(line)\n",
    "plt.show()"
   ]
  },
  {
   "cell_type": "code",
   "execution_count": null,
   "metadata": {},
   "outputs": [],
   "source": [
    "import matplotlib.pyplot as plt\n",
    "\n",
    "np.random.seed(2)\n",
    "\n",
    "num = np.floor(np.random.rand() * 6666).astype(int)\n",
    "\n",
    "lines_s = data_s[num][0]\n",
    "lines_p = data_p[num][0]\n",
    "\n",
    "for line in lines_s[:]:\n",
    "    plt.plot(line)\n",
    "plt.show()\n",
    "\n",
    "for line in lines_p:\n",
    "    plt.plot(line)\n",
    "plt.show()"
   ]
  },
  {
   "cell_type": "code",
   "execution_count": 5,
   "metadata": {},
   "outputs": [
    {
     "name": "stdout",
     "output_type": "stream",
     "text": [
      "[ 56  54 276 101  59  49 196 280 215 198]\n"
     ]
    }
   ],
   "source": [
    "import numpy as np\n",
    "\n",
    "np.random.seed(0)\n",
    "# pick = np.random.randint(0, 333, size=10)\n",
    "# get_data\n",
    "pick = np.random.choice(333, 10, replace=False)\n",
    "\n",
    "\n",
    "print(pick)"
   ]
  },
  {
   "cell_type": "code",
   "execution_count": null,
   "metadata": {},
   "outputs": [],
   "source": []
  }
 ],
 "metadata": {
  "kernelspec": {
   "display_name": "score",
   "language": "python",
   "name": "python3"
  },
  "language_info": {
   "codemirror_mode": {
    "name": "ipython",
    "version": 3
   },
   "file_extension": ".py",
   "mimetype": "text/x-python",
   "name": "python",
   "nbconvert_exporter": "python",
   "pygments_lexer": "ipython3",
   "version": "3.9.13"
  },
  "orig_nbformat": 4,
  "vscode": {
   "interpreter": {
    "hash": "1d6eb5a3536d8c4f4edf59a418269474628c458e224eda1690215e30fda3ce87"
   }
  }
 },
 "nbformat": 4,
 "nbformat_minor": 2
}
