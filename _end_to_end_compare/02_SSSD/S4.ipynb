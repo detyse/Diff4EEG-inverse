{
 "cells": [
  {
   "cell_type": "code",
   "execution_count": 1,
   "metadata": {},
   "outputs": [],
   "source": [
    "%load_ext autoreload\n",
    "%autoreload 2"
   ]
  },
  {
   "attachments": {},
   "cell_type": "markdown",
   "metadata": {},
   "source": [
    "# Train"
   ]
  },
  {
   "cell_type": "code",
   "execution_count": 2,
   "metadata": {},
   "outputs": [
    {
     "name": "stdout",
     "output_type": "stream",
     "text": [
      "model does not exise\n"
     ]
    },
    {
     "data": {
      "application/vnd.jupyter.widget-view+json": {
       "model_id": "3748b9569ba44c978ced8dae1510b34b",
       "version_major": 2,
       "version_minor": 0
      },
      "text/plain": [
       "  0%|          | 0/50 [00:00<?, ?it/s]"
      ]
     },
     "metadata": {},
     "output_type": "display_data"
    }
   ],
   "source": [
    "#\n",
    "import os\n",
    "\n",
    "import torch\n",
    "import torch.nn as nn\n",
    "from torch.optim import AdamW\n",
    "from torch.utils.data import DataLoader\n",
    "import numpy as np\n",
    "import tqdm\n",
    "from datasets import train_dataset, test_dataset\n",
    "from params_sssd import params\n",
    "from SSSD import SSSD, align, loss_fn, eval_error\n",
    "\n",
    "lr = 1e-2\n",
    "batch_size = 256\n",
    "epoch = 50\n",
    "\n",
    "device = torch.device('cuda:2')\n",
    "\n",
    "model = SSSD(params=params, mode=params.mode, measure=params.measure, bidirectional=params.bidirectional).to(device)\n",
    "try:\n",
    "    model.load_state_dict(torch.load(r'/home/wyl/projects/_BSS_hijack/_end_to_end_compare/02_SSSD/ckpt_sssd/ckpt.pth'))\n",
    "    print('model loaded')\n",
    "except:\n",
    "    print('model does not exise')\n",
    "\n",
    "train_data = train_dataset()\n",
    "test_data = test_dataset()\n",
    "data_loader = DataLoader(train_data, batch_size=16, shuffle=True)\n",
    "test_loader = DataLoader(test_data, batch_size=16, shuffle=True)\n",
    "\n",
    "optimizer = AdamW(model.parameters(), lr=lr, eps=3e-4)\n",
    "\n",
    "tqdm_epoch = tqdm.notebook.tqdm(range(epoch))\n",
    "\n",
    "for _ in tqdm_epoch:\n",
    "    avg_loss = 0.\n",
    "    num_items = 0\n",
    "    for train_data, truth in data_loader:\n",
    "        train_data = align(train_data.squeeze(1)).to(device)\n",
    "        truth = align(truth.squeeze(1)).to(device)\n",
    "\n",
    "        output = model(train_data)\n",
    "        loss = loss_fn(output, truth)\n",
    "\n",
    "        optimizer.zero_grad()\n",
    "        loss.backward()\n",
    "        optimizer.step()\n",
    "\n",
    "        avg_loss += loss.item() * train_data.shape[0]\n",
    "        num_items += train_data.shape[0]\n",
    "\n",
    "    tqdm_epoch.set_description('Average Loss:{:5f}'.format(avg_loss / num_items))\n",
    "    torch.save(model.state_dict(), r'/home/wyl/projects/_BSS_hijack/_end_to_end_compare/02_SSSD/ckpt_sssd/ckpt.pth')\n",
    "\n",
    "    with torch.no_grad():\n",
    "        \n",
    "        test_loss = 0.\n",
    "        test_items = 0\n",
    "        for test_data, test_truth in test_loader:\n",
    "            test_data = align(test_data.squeeze(1)).to(device)\n",
    "            test_truth = align(test_truth.squeeze(1)).to(device)\n",
    "\n",
    "            output = model(test_data)\n",
    "            loss = loss_fn(output, test_truth)\n",
    "\n",
    "            test_loss += loss.item() * train_data.shape[0]\n",
    "            test_items += train_data.shape[0]\n",
    "\n",
    "    # print('test loss: {:5f}'.format(test_loss / test_items))\n",
    "    # Print the averaged training loss so far.\n",
    "    tqdm_epoch.set_description('Average Loss: {:5f},   Test Loss: {:5f}'.format(avg_loss / num_items, test_loss / test_items))\n",
    "    # Update the checkpoint after each epoch of training.\n",
    "    # torch.save(model.state_dict(), r'/home/wyl/projects/_BSS_hijack/_end_to_end_compare/02_SSSD/ckpt_sssd/ckpt.pth') "
   ]
  },
  {
   "attachments": {},
   "cell_type": "markdown",
   "metadata": {},
   "source": [
    "# Eval"
   ]
  },
  {
   "cell_type": "code",
   "execution_count": 7,
   "metadata": {},
   "outputs": [],
   "source": [
    "import torch\n",
    "from SSSD import SSSD\n",
    "import matplotlib.pyplot as plt\n",
    "from datasets import train_dataset, test_dataset\n",
    "from torch.utils.data import DataLoader, RandomSampler\n",
    "from params_sssd import params\n",
    "\n",
    "seed = torch.manual_seed(1001)\n",
    "train_sampler = RandomSampler(train_dataset(), replacement=False)\n",
    "test_sampler = RandomSampler(test_dataset(), replacement=False)\n",
    "train_loader = DataLoader(train_dataset(), batch_size=20, shuffle=True)\n",
    "test_loader = DataLoader(test_dataset(), batch_size=20, shuffle=True)\n",
    "\n",
    "train_data, train_truth = next(iter(train_loader))\n",
    "test_data, test_truth = next(iter(test_loader))\n",
    "\n",
    "randint = torch.randint(0, 20, (1,))\n",
    "train_data = train_data.squeeze(1).to(torch.float32)\n",
    "train_truth = train_truth.squeeze(1).to(torch.float32)\n",
    "\n",
    "test_data = test_data.squeeze(1).to(torch.float32)\n",
    "test_truth = test_truth.squeeze(1).to(torch.float32)"
   ]
  },
  {
   "cell_type": "code",
   "execution_count": 8,
   "metadata": {},
   "outputs": [
    {
     "name": "stdout",
     "output_type": "stream",
     "text": [
      "::: ckpt does not exist :::\n",
      "tensor(0.7986)\n",
      "tensor(0.7573)\n"
     ]
    }
   ],
   "source": [
    "# end to end eval\n",
    "model = SSSD(params)\n",
    "try: \n",
    "    model.load_state_dict(torch.load(r'/home/wyl/projects/_BSS_hijack/_end_to_end_compare/02_SSSD/ckpt_sssd/ckpt.pth'))\n",
    "    print('::: model loaded :::')\n",
    "except:\n",
    "    print('::: ckpt does not exist :::')\n",
    "model.eval()\n",
    "\n",
    "with torch.no_grad():\n",
    "    train_output = model(train_data)\n",
    "    test_output = model(test_data)\n",
    "\n",
    "result_model = train_output[randint].squeeze(0)\n",
    "truth_model = train_truth[randint].squeeze(0)\n",
    "\n",
    "result_test = test_output[randint].squeeze(0)\n",
    "result_truth = test_truth[randint].squeeze(0)\n",
    "\n",
    "loss_model_train = loss_fn(train_output, train_truth)\n",
    "loss_model_test = loss_fn(test_output, test_truth)\n",
    "\n",
    "print(loss_model_train)\n",
    "print(loss_model_test)"
   ]
  },
  {
   "cell_type": "code",
   "execution_count": null,
   "metadata": {},
   "outputs": [],
   "source": [
    "# plot\n",
    "fig, axs = plt.subplots(nrows=3, ncols=1)\n",
    "\n",
    "axs[0].plot(result_truth[0])\n",
    "axs[0].plot(result_test[0])\n",
    "axs[0].set_title(\"EEG\")\n",
    "\n",
    "# axs[0].set_title(\"ground truth EEG\")\n",
    "\n",
    "axs[1].plot(result_truth[1])\n",
    "axs[1].plot(result_test[1])\n",
    "axs[1].set_title(\"EMG\")\n",
    "\n",
    "# axs[1].set_title(\"ground truth EMG\")\n",
    "\n",
    "axs[2].plot(result_truth[2], label='truth')\n",
    "axs[2].plot(result_test[2], label='separated')\n",
    "axs[2].set_title(\"EOG\")\n",
    "axs[2].legend()\n",
    "\n",
    "# axs[2].set_title(\"ground truth EOG\")\n",
    "\n",
    "fig.suptitle('Comparison Method')\n",
    "\n",
    "plt.show()"
   ]
  }
 ],
 "metadata": {
  "kernelspec": {
   "display_name": "score",
   "language": "python",
   "name": "python3"
  },
  "language_info": {
   "codemirror_mode": {
    "name": "ipython",
    "version": 3
   },
   "file_extension": ".py",
   "mimetype": "text/x-python",
   "name": "python",
   "nbconvert_exporter": "python",
   "pygments_lexer": "ipython3",
   "version": "3.9.13"
  },
  "orig_nbformat": 4
 },
 "nbformat": 4,
 "nbformat_minor": 2
}
