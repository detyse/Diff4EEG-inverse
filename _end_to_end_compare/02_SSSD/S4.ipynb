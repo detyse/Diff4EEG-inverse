{
 "cells": [
  {
   "cell_type": "code",
   "execution_count": 8,
   "metadata": {},
   "outputs": [
    {
     "name": "stdout",
     "output_type": "stream",
     "text": [
      "The autoreload extension is already loaded. To reload it, use:\n",
      "  %reload_ext autoreload\n"
     ]
    }
   ],
   "source": [
    "%load_ext autoreload\n",
    "%autoreload 2"
   ]
  },
  {
   "attachments": {},
   "cell_type": "markdown",
   "metadata": {},
   "source": [
    "# Train"
   ]
  },
  {
   "cell_type": "code",
   "execution_count": 9,
   "metadata": {},
   "outputs": [
    {
     "name": "stdout",
     "output_type": "stream",
     "text": [
      "model does not exise\n"
     ]
    },
    {
     "data": {
      "application/vnd.jupyter.widget-view+json": {
       "model_id": "584305c2cf7c4a0ca85cfe864f16b751",
       "version_major": 2,
       "version_minor": 0
      },
      "text/plain": [
       "  0%|          | 0/50 [00:00<?, ?it/s]"
      ]
     },
     "metadata": {},
     "output_type": "display_data"
    },
    {
     "name": "stdout",
     "output_type": "stream",
     "text": [
      "[KeOps] Generating code for formula Sum_Reduction(ComplexMult(Real2Complex(1/ComplexSquareAbs(ComplexMult(Var(1,2,0)-Var(2,2,1),Var(1,2,0)-Conj(Var(2,2,1))))),ComplexMult(Var(1,2,0)*ComplexReal(Var(0,2,1))-Real2Complex(Sum(Var(0,2,1)*Var(2,2,1))),Conj(ComplexMult(Var(1,2,0)-Var(2,2,1),Var(1,2,0)-Conj(Var(2,2,1)))))),0) ... OK\n",
      "[KeOps] Generating code for formula Sum_Reduction(Real2Complex(ComplexMult(Conj(Conj(ComplexMult(Var(1,2,0)-Var(2,2,1),Var(1,2,0)-Conj(Var(2,2,1))))),ComplexMult(Conj(Real2Complex(1/ComplexSquareAbs(ComplexMult(Var(1,2,0)-Var(2,2,1),Var(1,2,0)-Conj(Var(2,2,1)))))),Var(3,2,0)))|Var(1,2,0))-Var(2,2,1)*ComplexReal(ComplexMult(Conj(Conj(ComplexMult(Var(1,2,0)-Var(2,2,1),Var(1,2,0)-Conj(Var(2,2,1))))),ComplexMult(Conj(Real2Complex(1/ComplexSquareAbs(ComplexMult(Var(1,2,0)-Var(2,2,1),Var(1,2,0)-Conj(Var(2,2,1)))))),Var(3,2,0)))),1) ... OK\n",
      "[KeOps] Generating code for formula Sum_Reduction(((-ComplexMult(Conj(Var(1,2,0)-Conj(Var(2,2,1))),ComplexMult(Conj(Conj(ComplexMult(Var(1,2,0)-Var(2,2,1),Var(1,2,0)-Conj(Var(2,2,1))))),Real2Complex(ComplexReal(ComplexMult(Conj(ComplexMult(Var(1,2,0)*ComplexReal(Var(0,2,1))-Real2Complex(Sum(Var(0,2,1)*Var(2,2,1))),Conj(ComplexMult(Var(1,2,0)-Var(2,2,1),Var(1,2,0)-Conj(Var(2,2,1)))))),Var(3,2,0)))*(-1/ComplexSquareAbs(ComplexMult(Var(1,2,0)-Var(2,2,1),Var(1,2,0)-Conj(Var(2,2,1))))**2))))+-Conj(ComplexMult(Conj(Var(1,2,0)-Var(2,2,1)),ComplexMult(Conj(Conj(ComplexMult(Var(1,2,0)-Var(2,2,1),Var(1,2,0)-Conj(Var(2,2,1))))),Real2Complex(ComplexReal(ComplexMult(Conj(ComplexMult(Var(1,2,0)*ComplexReal(Var(0,2,1))-Real2Complex(Sum(Var(0,2,1)*Var(2,2,1))),Conj(ComplexMult(Var(1,2,0)-Var(2,2,1),Var(1,2,0)-Conj(Var(2,2,1)))))),Var(3,2,0)))*(-1/ComplexSquareAbs(ComplexMult(Var(1,2,0)-Var(2,2,1),Var(1,2,0)-Conj(Var(2,2,1))))**2))))))+(-ComplexMult(Conj(Var(1,2,0)-Conj(Var(2,2,1))),Conj(ComplexMult(Conj(ComplexMult(Var(1,2,0)-Var(2,2,1),Var(1,2,0)-Conj(Var(2,2,1)))),Real2Complex(ComplexReal(ComplexMult(Conj(ComplexMult(Var(1,2,0)*ComplexReal(Var(0,2,1))-Real2Complex(Sum(Var(0,2,1)*Var(2,2,1))),Conj(ComplexMult(Var(1,2,0)-Var(2,2,1),Var(1,2,0)-Conj(Var(2,2,1)))))),Var(3,2,0)))*(-1/ComplexSquareAbs(ComplexMult(Var(1,2,0)-Var(2,2,1),Var(1,2,0)-Conj(Var(2,2,1))))**2)))))+-Conj(ComplexMult(Conj(Var(1,2,0)-Var(2,2,1)),Conj(ComplexMult(Conj(ComplexMult(Var(1,2,0)-Var(2,2,1),Var(1,2,0)-Conj(Var(2,2,1)))),Real2Complex(ComplexReal(ComplexMult(Conj(ComplexMult(Var(1,2,0)*ComplexReal(Var(0,2,1))-Real2Complex(Sum(Var(0,2,1)*Var(2,2,1))),Conj(ComplexMult(Var(1,2,0)-Var(2,2,1),Var(1,2,0)-Conj(Var(2,2,1)))))),Var(3,2,0)))*(-1/ComplexSquareAbs(ComplexMult(Var(1,2,0)-Var(2,2,1),Var(1,2,0)-Conj(Var(2,2,1))))**2))))))))+(-(Var(0,2,1)*ComplexReal(ComplexMult(Conj(Conj(ComplexMult(Var(1,2,0)-Var(2,2,1),Var(1,2,0)-Conj(Var(2,2,1))))),ComplexMult(Conj(Real2Complex(1/ComplexSquareAbs(ComplexMult(Var(1,2,0)-Var(2,2,1),Var(1,2,0)-Conj(Var(2,2,1)))))),Var(3,2,0)))))+(-ComplexMult(Conj(Var(1,2,0)-Conj(Var(2,2,1))),Conj(ComplexMult(Conj(Var(1,2,0)*ComplexReal(Var(0,2,1))-Real2Complex(Sum(Var(0,2,1)*Var(2,2,1)))),ComplexMult(Conj(Real2Complex(1/ComplexSquareAbs(ComplexMult(Var(1,2,0)-Var(2,2,1),Var(1,2,0)-Conj(Var(2,2,1)))))),Var(3,2,0)))))+-Conj(ComplexMult(Conj(Var(1,2,0)-Var(2,2,1)),Conj(ComplexMult(Conj(Var(1,2,0)*ComplexReal(Var(0,2,1))-Real2Complex(Sum(Var(0,2,1)*Var(2,2,1)))),ComplexMult(Conj(Real2Complex(1/ComplexSquareAbs(ComplexMult(Var(1,2,0)-Var(2,2,1),Var(1,2,0)-Conj(Var(2,2,1)))))),Var(3,2,0)))))))),1) ... OK\n"
     ]
    }
   ],
   "source": [
    "#\n",
    "import os\n",
    "\n",
    "import torch\n",
    "import torch.nn as nn\n",
    "from torch.optim import AdamW\n",
    "from torch.utils.data import DataLoader\n",
    "import numpy as np\n",
    "import tqdm\n",
    "from datasets import train_dataset, test_dataset\n",
    "from params_sssd import params\n",
    "from SSSD import SSSD, align, loss_fn, eval_error\n",
    "\n",
    "lr = 1e-2\n",
    "batch_size = 256\n",
    "epoch = 50\n",
    "\n",
    "device = torch.device('cuda:2')\n",
    "\n",
    "model = SSSD(params=params, mode=params.mode, measure=params.measure, bidirectional=params.bidirectional, transpose=params.transpose).to(device)\n",
    "try:\n",
    "    model.load_state_dict(torch.load(r'/home/wyl/projects/_BSS_hijack/_end_to_end_compare/02_SSSD/ckpt_sssd/ckpt.pth'))\n",
    "    print('model loaded')\n",
    "except:\n",
    "    print('model does not exise')\n",
    "\n",
    "train_data = train_dataset()\n",
    "test_data = test_dataset()\n",
    "data_loader = DataLoader(train_data, batch_size=16, shuffle=True)\n",
    "test_loader = DataLoader(test_data, batch_size=16, shuffle=True)\n",
    "\n",
    "optimizer = AdamW(model.parameters(), lr=lr, eps=1e-6)\n",
    "\n",
    "tqdm_epoch = tqdm.notebook.tqdm(range(epoch))\n",
    "\n",
    "for _ in tqdm_epoch:\n",
    "    avg_loss = 0.\n",
    "    num_items = 0\n",
    "    for train_data, truth in data_loader:\n",
    "        train_data = align(train_data.squeeze(1)).to(device)\n",
    "        truth = align(truth.squeeze(1)).to(device)\n",
    "\n",
    "        output = model(train_data)\n",
    "        loss = loss_fn(output, truth)\n",
    "\n",
    "        optimizer.zero_grad()\n",
    "        loss.backward()\n",
    "        optimizer.step()\n",
    "\n",
    "        avg_loss += loss.item() * train_data.shape[0]\n",
    "        num_items += train_data.shape[0]\n",
    "\n",
    "    tqdm_epoch.set_description('Average Loss:{:5f}'.format(avg_loss / num_items))\n",
    "    torch.save(model.state_dict(), r'/home/wyl/projects/_BSS_hijack/_end_to_end_compare/02_SSSD/ckpt_sssd/ckpt.pth')\n",
    "\n",
    "\n",
    "    with torch.no_grad():\n",
    "        \n",
    "        test_loss = 0.\n",
    "        test_items = 0\n",
    "        for test_data, test_truth in test_loader:\n",
    "            test_data = align(test_data.squeeze(1)).to(device)\n",
    "            test_truth = align(test_truth.squeeze(1)).to(device)\n",
    "\n",
    "            output = model(test_data)\n",
    "            loss = loss_fn(output, test_truth)\n",
    "\n",
    "            test_loss += loss.item() * train_data.shape[0]\n",
    "            test_items += train_data.shape[0]\n",
    "\n",
    "    # print('test loss: {:5f}'.format(test_loss / test_items))\n",
    "    # Print the averaged training loss so far.\n",
    "    tqdm_epoch.set_description('Average Loss: {:5f},   Test Loss: {:5f}'.format(avg_loss / num_items, test_loss / test_items))\n",
    "    # Update the checkpoint after each epoch of training.\n",
    "    torch.save(model.state_dict(), '/home/wyl/projects/_BSS_latent/ckpt/ckpt.pth') "
   ]
  }
 ],
 "metadata": {
  "kernelspec": {
   "display_name": "score",
   "language": "python",
   "name": "python3"
  },
  "language_info": {
   "codemirror_mode": {
    "name": "ipython",
    "version": 3
   },
   "file_extension": ".py",
   "mimetype": "text/x-python",
   "name": "python",
   "nbconvert_exporter": "python",
   "pygments_lexer": "ipython3",
   "version": "3.9.13"
  },
  "orig_nbformat": 4
 },
 "nbformat": 4,
 "nbformat_minor": 2
}
