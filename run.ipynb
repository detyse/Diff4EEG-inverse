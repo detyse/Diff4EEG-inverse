{
 "cells": [
  {
   "attachments": {},
   "cell_type": "markdown",
   "metadata": {},
   "source": []
  },
  {
   "cell_type": "code",
   "execution_count": null,
   "metadata": {},
   "outputs": [],
   "source": [
    "import torch\n",
    "import torch.nn as nn\n",
    "import numpy as np\n",
    "import matplotlib.pyplot as plt\n",
    "\n",
    "from datasets.dataset import perturbed_dataset, separated_dataset"
   ]
  },
  {
   "attachments": {},
   "cell_type": "markdown",
   "metadata": {},
   "source": [
    "## TRAIN"
   ]
  },
  {
   "cell_type": "code",
   "execution_count": null,
   "metadata": {},
   "outputs": [],
   "source": [
    "from torch.optim import Adam\n",
    "from torch.utils.data import DataLoader\n",
    "import tqdm\n",
    "from models.the_model import BSS\n",
    "\n",
    "device = torch.device(\"cuda:1\")\n",
    "\n",
    "lr = 1e-4\n",
    "batch_size = 32\n",
    "optimizer = Adam(lr=lr, batch_size=batch_size, eps=1e-4)\n",
    "\n",
    "dataloader = DataLoader()\n",
    "\n",
    "n_epoch = 32\n",
    "\n",
    "# TRAIN A TRAINED\n",
    "the_model = BSS()\n",
    "try:\n",
    "    ckpt = torch.load('ckpt/_{}.pth'.format(11))\n",
    "    model = the_model.load_state_dict(ckpt)\n",
    "    print('model load')\n",
    "except:\n",
    "    print('no exist model')\n",
    "\n",
    "tqdm_epoch = tqdm.trange(n_epoch)\n",
    "# can add parameters to make it clear\n",
    "\n",
    "# try pytorch_lightning.trainer\n",
    "for epoch in tqdm_epoch:\n",
    "    avg_loss = 0.\n",
    "    num_items = 0\n",
    "    for x in dataloader:\n",
    "        x = x.to(device)\n",
    "        optimizer.zero_grad()\n",
    "        loss = the_model(x)\n",
    "        loss.backward()\n",
    "        optimizer.step()\n",
    "        avg_loss += loss.item() * x.shape[0]\n",
    "        num_items += x.shape[0]\n",
    "    tqdm_epoch.set_description()\n",
    "    torch.save(the_model.state_dict(), '')"
   ]
  },
  {
   "attachments": {},
   "cell_type": "markdown",
   "metadata": {},
   "source": [
    "## GET SAMPLE"
   ]
  },
  {
   "cell_type": "code",
   "execution_count": null,
   "metadata": {},
   "outputs": [],
   "source": [
    "import torch\n",
    "import torch.nn as nn\n",
    "from models.the_model import Analytic_DPM, estimate_GAMMA, BSS\n",
    "from models.the_net import BSSnet\n",
    "\n",
    "path = 'ckpt/_{}.pth'.format('11')\n",
    "ckpt = torch.load(path)\n",
    "\n",
    "trained_net = BSSnet()\n",
    "trained_net.load_state_dict(ckpt)\n",
    "\n",
    "trained_model = BSS()   # the_net = trained_net\n",
    "\n",
    "sampling = trained_model.sampling()"
   ]
  },
  {
   "attachments": {},
   "cell_type": "markdown",
   "metadata": {},
   "source": [
    "## BSS"
   ]
  },
  {
   "cell_type": "code",
   "execution_count": null,
   "metadata": {},
   "outputs": [],
   "source": [
    "import numpy.random as random\n",
    "import torch\n",
    "from torch.utils.data import Dataset, DataLoader\n",
    "from datasets.datasets import perturbed_dataset\n",
    "\n",
    "# get data to be bss\n",
    "random_seed = random.seed(0)\n",
    "random.randint\n",
    "\n",
    "dataset = perturbed_dataset()\n",
    "\n",
    "dataloader = DataLoader(dataset=dataset, )\n",
    "\n",
    "get_data"
   ]
  }
 ],
 "metadata": {
  "kernelspec": {
   "display_name": "score",
   "language": "python",
   "name": "python3"
  },
  "language_info": {
   "name": "python",
   "version": "3.9.13"
  },
  "orig_nbformat": 4,
  "vscode": {
   "interpreter": {
    "hash": "1d6eb5a3536d8c4f4edf59a418269474628c458e224eda1690215e30fda3ce87"
   }
  }
 },
 "nbformat": 4,
 "nbformat_minor": 2
}
