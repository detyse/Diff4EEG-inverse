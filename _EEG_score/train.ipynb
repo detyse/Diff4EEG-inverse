{
 "cells": [
  {
   "cell_type": "code",
   "execution_count": 7,
   "metadata": {},
   "outputs": [
    {
     "name": "stdout",
     "output_type": "stream",
     "text": [
      "The autoreload extension is already loaded. To reload it, use:\n",
      "  %reload_ext autoreload\n"
     ]
    }
   ],
   "source": [
    "%load_ext autoreload\n",
    "%autoreload 2"
   ]
  },
  {
   "cell_type": "code",
   "execution_count": 8,
   "metadata": {},
   "outputs": [],
   "source": [
    "import torch\n",
    "import torch.nn as nn\n",
    "from torch.utils.data import Dataset, DataLoader\n",
    "import numpy as np\n",
    "import functools\n",
    "import tqdm\n",
    "from model import DiffWave, DW4BSS"
   ]
  },
  {
   "cell_type": "code",
   "execution_count": 9,
   "metadata": {},
   "outputs": [],
   "source": [
    "device = torch.device('cuda:1')\n",
    "\n",
    "def marginal_prob_std(t, sigma):\n",
    "    t = torch.tensor(t, device=device)\n",
    "    return torch.sqrt((sigma**(2*t) - 1.) / 2. / np.log(sigma))\n",
    "\n",
    "def diffusion_coeff(t, sigma):\n",
    "    return torch.tensor(sigma**t, device=device)\n",
    "\n",
    "sigma = 30.0\n",
    "marginal_prob_std_fn = functools.partial(marginal_prob_std, sigma=sigma)\n",
    "diffusion_coeff_fn = functools.partial(diffusion_coeff, sigma=sigma)"
   ]
  },
  {
   "cell_type": "code",
   "execution_count": 10,
   "metadata": {},
   "outputs": [],
   "source": [
    "def loss_fn(model, x, marginal_prob_std, eps=1e-5):\n",
    "    random_t = torch.rand(x.shape[0], device=x.device) * (1.-eps) + eps\n",
    "    z = torch.randn_like(x)\n",
    "    std = marginal_prob_std(random_t)\n",
    "    perturbed_x = x + z * std[:, None, None]\n",
    "    score = model(perturbed_x, random_t)\n",
    "    loss = torch.mean(\n",
    "        torch.sum((score * std[:, None, None] + z)**2, dim=(1, 2)))\n",
    "    return loss"
   ]
  },
  {
   "attachments": {},
   "cell_type": "markdown",
   "metadata": {},
   "source": [
    "# Train"
   ]
  },
  {
   "cell_type": "code",
   "execution_count": 11,
   "metadata": {},
   "outputs": [
    {
     "name": "stdout",
     "output_type": "stream",
     "text": [
      "::: model does not exist :::\n"
     ]
    },
    {
     "name": "stderr",
     "output_type": "stream",
     "text": [
      "  0%|          | 0/100 [00:00<?, ?it/s]/tmp/ipykernel_3357029/333932391.py:4: UserWarning: To copy construct from a tensor, it is recommended to use sourceTensor.clone().detach() or sourceTensor.clone().detach().requires_grad_(True), rather than torch.tensor(sourceTensor).\n",
      "  t = torch.tensor(t, device=device)\n",
      "Average Loss: 254.607459: 100%|██████████| 100/100 [08:23<00:00,  5.03s/it]\n"
     ]
    }
   ],
   "source": [
    "from params import params_diffwave_cat, params_diffwave3, params_gau_cat, params_gau3\n",
    "from datasets_bss import train_dataset\n",
    "from torch.optim import Adam\n",
    "from GAU import DW4BSS_GAU, GAUnet3\n",
    "from model import DW4BSS, DiffWave3 \n",
    "\n",
    "BSS_net = DiffWave3(params_diffwave3, marginal_prob_std_fn).to(device)\n",
    "# BSS_net = DW4BSS_GAU(gau_params, marginal_prob_std_fn).to(device)\n",
    "BSS_net = BSS_net.float()\n",
    "\n",
    "try:\n",
    "    the_ckpt = torch.load(r'/home/wyl/projects/_EEG_score/ckpt/diffwave3_ckpt_1.pth')\n",
    "    BSS_net.load_state_dict(the_ckpt, strict=False)\n",
    "    print('::: model loaded :::')\n",
    "except:\n",
    "    print('::: model does not exist :::')\n",
    "\n",
    "lr = 2e-4\n",
    "batch_size = 64\n",
    "n_epoch = 40\n",
    "\n",
    "BSS_dataset = train_dataset()\n",
    "BSS_dataloader = DataLoader(BSS_dataset, batch_size=64, shuffle=True)\n",
    "\n",
    "optimizer = Adam(BSS_net.parameters(), lr=lr)\n",
    "\n",
    "tqdm_epoch = tqdm.trange(n_epoch)\n",
    "for epoch in tqdm_epoch:\n",
    "    avg_loss = 0.\n",
    "    num_items = 0\n",
    "    for _, x in BSS_dataloader:\n",
    "        x = x.squeeze(1)\n",
    "        x = x.to(device).float()\n",
    "        loss = loss_fn(BSS_net, x, marginal_prob_std_fn)\n",
    "        optimizer.zero_grad()\n",
    "        loss.backward()\n",
    "        optimizer.step()\n",
    "        avg_loss += loss.item() * x.shape[0]\n",
    "        num_items += x.shape[0]\n",
    "    tqdm_epoch.set_description('Average Loss: {:5f}'.format(avg_loss / num_items))\n",
    "    torch.save(BSS_net.state_dict(), r'/home/wyl/projects/_EEG_score/ckpt/diffwave3_ckpt_1.pth')"
   ]
  }
 ],
 "metadata": {
  "kernelspec": {
   "display_name": "score",
   "language": "python",
   "name": "python3"
  },
  "language_info": {
   "codemirror_mode": {
    "name": "ipython",
    "version": 3
   },
   "file_extension": ".py",
   "mimetype": "text/x-python",
   "name": "python",
   "nbconvert_exporter": "python",
   "pygments_lexer": "ipython3",
   "version": "3.9.13"
  },
  "orig_nbformat": 4
 },
 "nbformat": 4,
 "nbformat_minor": 2
}
